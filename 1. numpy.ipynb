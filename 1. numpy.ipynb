{
 "cells": [
  {
   "cell_type": "markdown",
   "metadata": {},
   "source": [
    "# numpy\n",
    "---\n",
    "## 1. 특징\n",
    "   \n",
    "        1) 백터 및 행렬 연산과 관련된 편리한 기능을 제공\n",
    "        2) list와 거의 동일하지만 numpy배열의 특징을 갖는다.\n",
    "             - 배열 : 모든 원소가 같은 자료형이어야 한다. 원소의 갯수를 바꿀 수 없다.\n",
    "        3) 빠른 속도를 지원\n",
    "        4) 백터화 연산, 배열 인덱싱을 통한 질의가능\n",
    "        5) http://www.numpy.org\n",
    "        \n",
    "        ____________________________________________\n",
    "        numpy를 사용하는 이유 : 배열"
   ]
  },
  {
   "cell_type": "code",
   "execution_count": 2,
   "metadata": {},
   "outputs": [],
   "source": [
    "import numpy as np"
   ]
  },
  {
   "cell_type": "markdown",
   "metadata": {},
   "source": [
    "### 1차원 배열 \n",
    "\n"
   ]
  },
  {
   "cell_type": "code",
   "execution_count": 2,
   "metadata": {},
   "outputs": [
    {
     "name": "stdout",
     "output_type": "stream",
     "text": [
      "[1, 2, 3, 4, 5, 10, 20, '가나다']\n",
      "<class 'list'>\n"
     ]
    }
   ],
   "source": [
    "a1 = [1, 2, 3, 4, 5, 10, 20, \"가나다\"]  # 기본적인 리스트 형식\n",
    "print(a1)\n",
    "print(type(a1))                         "
   ]
  },
  {
   "cell_type": "code",
   "execution_count": 49,
   "metadata": {},
   "outputs": [
    {
     "name": "stdout",
     "output_type": "stream",
     "text": [
      "['1' '2' '3' '4' '5' '10' '20' '가나다']\n",
      "<class 'numpy.ndarray'>\n",
      "(8,)\n",
      "1\n",
      "8\n"
     ]
    }
   ],
   "source": [
    "array = np.array ([1, 2, 3, 4, 5, 10, 20, \"가나다\"]) # np.arrary = 범위지정 배열을 2차원 배열로 변경\n",
    "print(array)\n",
    "print(type(array)) \n",
    "# 배열의 정보를 확인할 때 쓰는 함수 3가지\n",
    "print(a2.shape)    # .shape : 배열의 정보를 알려주는 함수 \n",
    "print(a2.ndim)     # .ndim : 몇 차원 배열인지 알려주는 함수\n",
    "print(len(a2))     # len() : 배열의 원소 개수를 알려주는 함수 "
   ]
  },
  {
   "cell_type": "code",
   "execution_count": 48,
   "metadata": {},
   "outputs": [
    {
     "name": "stdout",
     "output_type": "stream",
     "text": [
      "[1, 2, 3, 4, 5, 6, 7, 8, 9, 1, 2, 3, 4, 5, 6, 7, 8, 9]\n",
      "[ 2  4  6  8 10 12 14 16 18]\n",
      "[-1  0  1  2  3  4  5  6  7]\n"
     ]
    }
   ],
   "source": [
    "# 백터화 연산\n",
    "data= [1,2,3,4,5,6,7,8,9]\n",
    "print(data*2)  # 리스트데이터는 하나하나 연산이 매우 불편\n",
    "\n",
    "data2 = np.array(data) \n",
    "print(data2*2)\n",
    "print(data2-2)"
   ]
  },
  {
   "cell_type": "markdown",
   "metadata": {},
   "source": [
    "### 2차원 배열\n"
   ]
  },
  {
   "cell_type": "code",
   "execution_count": 5,
   "metadata": {},
   "outputs": [
    {
     "name": "stdout",
     "output_type": "stream",
     "text": [
      "[[0 1 2]\n",
      " [3 4 5]]\n",
      "(2, 3)\n",
      "2\n",
      "------------\n",
      "[0 1 2]\n",
      "[0 1 2] [1]\n",
      "2\n",
      "3\n"
     ]
    }
   ],
   "source": [
    "arr = np.array(([0,1,2],[3,4,5]))\n",
    "print(arr)   #2차원 배열은 줄바꿈 / ,를 사용하지않는다\n",
    "print(arr.shape)  # 2행 3열\n",
    "print(arr.ndim)   # 2차원\n",
    "print(\"------------\")\n",
    "print(arr[0])\n",
    "print(arr[0],[1])\n",
    "print(len(arr))   \n",
    "print(len(arr[0]))"
   ]
  },
  {
   "cell_type": "markdown",
   "metadata": {},
   "source": [
    "### 3차원 배열"
   ]
  },
  {
   "cell_type": "code",
   "execution_count": 6,
   "metadata": {},
   "outputs": [
    {
     "name": "stdout",
     "output_type": "stream",
     "text": [
      "[[[ 1  2  3  4]\n",
      "  [ 5  6  7  8]\n",
      "  [ 9 10 11 12]]\n",
      "\n",
      " [[13 14 15 16]\n",
      "  [17 18 19 20]\n",
      "  [21 22 23 24]]]\n",
      "------------\n",
      "[[ 1  2  3  4]\n",
      " [ 5  6  7  8]\n",
      " [ 9 10 11 12]]\n",
      "------------\n",
      "[1 2 3 4]\n",
      "------------\n",
      "(2, 3, 4)\n",
      "3\n"
     ]
    }
   ],
   "source": [
    "arr = np.array([[[1,2,3,4],[5,6,7,8],[9,10,11,12]],[[13,14,15,16],[17,18,19,20],[21,22,23,24]]])\n",
    "\n",
    "print(arr)  \n",
    "print(\"------------\")\n",
    "\n",
    "# 3차원 배열의 인덱스\n",
    "print(arr[0])            \n",
    "print(\"------------\")\n",
    "print(arr[0][0])        \n",
    "print(\"------------\")\n",
    "print(arr.shape)  \n",
    "print(arr.ndim)\n",
    "# 보통 앞,뒤의 대괄호를 보고 차수를 판단한다."
   ]
  },
  {
   "cell_type": "code",
   "execution_count": 52,
   "metadata": {},
   "outputs": [
    {
     "name": "stdout",
     "output_type": "stream",
     "text": [
      "3\n",
      "(1, 1, 1)\n"
     ]
    }
   ],
   "source": [
    "arr =np.array([[[1]]])\n",
    "print(arr.ndim)\n",
    "print(arr.shape)"
   ]
  },
  {
   "cell_type": "markdown",
   "metadata": {},
   "source": [
    "###  배열의 인덱싱\n"
   ]
  },
  {
   "cell_type": "code",
   "execution_count": 8,
   "metadata": {},
   "outputs": [
    {
     "name": "stdout",
     "output_type": "stream",
     "text": [
      "2 4\n"
     ]
    }
   ],
   "source": [
    "arr = np.array([0,1,2,3,4])\n",
    "print(arr[2],arr[-1])"
   ]
  },
  {
   "cell_type": "code",
   "execution_count": 9,
   "metadata": {},
   "outputs": [
    {
     "name": "stdout",
     "output_type": "stream",
     "text": [
      "2 2 4 5\n"
     ]
    }
   ],
   "source": [
    "arr = np.array([[0,1,2],\n",
    "                [3,4,5]])\n",
    "print(arr[0][2],arr[0,2],arr[1,1],arr[-1,-1])"
   ]
  },
  {
   "cell_type": "code",
   "execution_count": 10,
   "metadata": {},
   "outputs": [
    {
     "name": "stdout",
     "output_type": "stream",
     "text": [
      "[0 2 4 6 8]\n",
      "[0 1 0 1 0 1 0 1 0 1]\n",
      "[ True False  True False  True False  True False  True False]\n",
      "[0 2 4 6 8]\n",
      "[0 3 6 9]\n",
      "[1 5 9]\n",
      "[9]\n"
     ]
    }
   ],
   "source": [
    "# fancy indexing \n",
    "arr= np.array([i for i in range(10)])\n",
    "idx = np.array([True, False, True, False, True, False, True, False, True, False])\n",
    "\n",
    "print(arr[idx])\n",
    "print(arr%2)\n",
    "print(arr%2 ==0)\n",
    "print(arr[arr%2 == 0])\n",
    "\n",
    "\n",
    "#arr에서 3의 배수를 찾아라 \n",
    "print(arr[arr%3 == 0])\n",
    "#arr에서 4로 나누면 1이 남는 수를 찾아라\n",
    "print(arr[arr%4 == 1])\n",
    "#arr에서 3으로 나누면 나눠지고 4로 나누면 1이 남는 수를 찾아라\n",
    "print((arr[(arr%3==0) & (arr%4==1)]))  "
   ]
  },
  {
   "cell_type": "markdown",
   "metadata": {},
   "source": [
    "### 배열의 슬라이싱"
   ]
  },
  {
   "cell_type": "code",
   "execution_count": 3,
   "metadata": {},
   "outputs": [
    {
     "name": "stdout",
     "output_type": "stream",
     "text": [
      "[0 1 2 3]\n",
      "-----------------\n",
      "[0 1]\n",
      "[[4 5]\n",
      " [8 9]]\n",
      "[[0 1]\n",
      " [4 5]]\n",
      "-----------------\n",
      "[[ 8  9 10 11]\n",
      " [ 4  5  6  7]\n",
      " [ 0  1  2  3]]\n"
     ]
    }
   ],
   "source": [
    "arr = np.array([[0,1,2,3],\n",
    "                 [4,5,6,7],\n",
    "                 [8,9,10,11]])\n",
    "print(arr[0,:])\n",
    "\n",
    "print('-----------------')\n",
    "\n",
    "print(arr[0,0:2])\n",
    "\n",
    "\n",
    "print(arr[1:3,0:2])\n",
    "#0,1,4,5 인덱싱\n",
    "print(arr[0:2,:2])\n",
    "\n",
    "print('-----------------')\n",
    "\n",
    "#행의 위치 변경\n",
    "print(arr[[2,1,0],:])"
   ]
  },
  {
   "cell_type": "markdown",
   "metadata": {},
   "source": [
    "###  Numpy 자료형\n",
    "\n",
    "    - b : bool\n",
    "    - i : int 기호가 있는 정수, (singed)integer  ex)i8 : 정수를 8비트까지만 쓰겠다\n",
    "    - u : 기호가 없는 정수(양의 정수), (unsigned)integer\n",
    "    - f : 실수 float\n",
    "    - c : 복소수 complex\n",
    "    - O : 객체 Object\n",
    "    - S : 바이트 문자열 (byte)string    ex) S24 : 영문자 24글자,\n",
    "    - U : 유니코드 Unicode"
   ]
  },
  {
   "cell_type": "code",
   "execution_count": 12,
   "metadata": {},
   "outputs": [
    {
     "name": "stdout",
     "output_type": "stream",
     "text": [
      "int32\n",
      "float64\n",
      "float64\n"
     ]
    }
   ],
   "source": [
    "import numpy as np\n",
    "\n",
    "arr = np.array([1,2,3])\n",
    "print(arr.dtype) # 정수형 32비트\n",
    "\n",
    "arr = np.array([1.0,2.0,3.0])\n",
    "print(arr.dtype) #실수 64비트\n",
    "\n",
    "# 서로 다른 자료형이 배열에 존재하는 경우 자동으로 컨버팅이 된다\n",
    "arr = np.array([1,2,3.0])\n",
    "print(arr.dtype)   "
   ]
  },
  {
   "cell_type": "code",
   "execution_count": 5,
   "metadata": {},
   "outputs": [
    {
     "name": "stdout",
     "output_type": "stream",
     "text": [
      "float64\n",
      "3.0\n",
      "<U1\n",
      "12\n"
     ]
    }
   ],
   "source": [
    "arr = np.array([1,2,3],dtype = np.float64)\n",
    "\n",
    "arr = np.array([1,2,3],dtype=\"f\")\n",
    "print(arr.dtype)\n",
    "print(arr[0]+arr[1]) # 1 + 2 =3\n",
    " \n",
    "arr = np.array([1,2,3],dtype=\"U\")\n",
    "print(arr.dtype)\n",
    "print(arr[0]+arr[1]) # '1' + '2' = '12'"
   ]
  },
  {
   "cell_type": "markdown",
   "metadata": {},
   "source": [
    "### 배열 생성 \n",
    "    - zeros \n",
    "    - ones\n",
    "    - empty"
   ]
  },
  {
   "cell_type": "code",
   "execution_count": 14,
   "metadata": {
    "scrolled": true
   },
   "outputs": [
    {
     "name": "stdout",
     "output_type": "stream",
     "text": [
      "[0. 0. 0. 0. 0.]\n",
      "<class 'numpy.ndarray'>\n",
      "float64\n",
      "-------------------\n",
      "[0 0 0 0 0]\n",
      "int32\n",
      "-------------------\n",
      "['' '' '' '' '']\n",
      "['abc' 'abcd' 'abcd' '' '']\n",
      "-------------------\n",
      "[[0. 0. 0.]\n",
      " [0. 0. 0.]]\n",
      "-------------------\n",
      "[[[1. 1. 1. 1.]\n",
      "  [1. 1. 1. 1.]\n",
      "  [1. 1. 1. 1.]]\n",
      "\n",
      " [[1. 1. 1. 1.]\n",
      "  [1. 1. 1. 1.]\n",
      "  [1. 1. 1. 1.]]]\n",
      "-------------------\n",
      "[[0. 0. 0.]\n",
      " [0. 0. 0.]]\n",
      "[[1. 1. 1.]\n",
      " [1. 1. 1.]]\n",
      "-------------------\n",
      "[[4.24399158e-314 8.48798317e-314 1.27319747e-313]\n",
      " [1.69759663e-313 2.12199579e-313 2.54639495e-313]\n",
      " [2.97079411e-313 3.39519327e-313 3.81959242e-313]\n",
      " [4.24399158e-313 4.66839074e-313 5.09278990e-313]]\n",
      "-------------------\n",
      "[0 1 2 3 4 5 6 7 8 9]\n",
      "[ 3  5  7  9 11 13 15 17 19]\n",
      "-------------------\n",
      "[  0.  25.  50.  75. 100.]\n"
     ]
    }
   ],
   "source": [
    "arr = np.zeros(5)\n",
    "print(arr)\n",
    "print(type(arr))\n",
    "print(arr.dtype)\n",
    "print('-------------------')\n",
    "arr = np.zeros(5,dtype='i')\n",
    "print(arr)\n",
    "print(arr.dtype)\n",
    "print('-------------------')\n",
    "arr = np.zeros(5,dtype='U4')\n",
    "print(arr)\n",
    "arr[0]= 'abc'\n",
    "arr[1]= 'abcd'\n",
    "arr[2]= 'abcde' # 크기를 4까지만 정해놔서 \n",
    "print(arr)\n",
    "print('-------------------')\n",
    "arr=np.zeros((2,3))  # 2행 3열\n",
    "print(arr)\n",
    "print('-------------------')\n",
    "arr=np.ones((2,3,4)) # 3차원 3행 4열\n",
    "print(arr)\n",
    "print('-------------------')\n",
    "arr1 = np.zeros((2,3)) \n",
    "arr2 = np.ones_like(arr1)   #np.ones_like() : 배열을 1로 바꿔주는 함수 \n",
    "print(arr1)\n",
    "print(arr2)\n",
    "print('-------------------')\n",
    "arr=np.empty((4,3))                 # np.empty 메모리값 그대로 공간만 만들어주는 함수\n",
    "print(arr)\n",
    "print('-------------------')\n",
    "arr = np.arange(10)            # range의 리턴값은 list arange의 리턴값은 배열\n",
    "print(arr)\n",
    "print(np.arange(3,21,2))\n",
    "print('-------------------')\n",
    "arr= np.linspace(0,100,5)    # 시작부터 끝까지 몇개의 데이터 생성\n",
    "print(arr)\n"
   ]
  },
  {
   "cell_type": "markdown",
   "metadata": {},
   "source": [
    "### 전치 연산(Transpose)\n",
    "    - .T "
   ]
  },
  {
   "cell_type": "code",
   "execution_count": 15,
   "metadata": {},
   "outputs": [
    {
     "name": "stdout",
     "output_type": "stream",
     "text": [
      "[[1 2 3]\n",
      " [4 5 6]]\n",
      "[[1 4]\n",
      " [2 5]\n",
      " [3 6]]\n"
     ]
    }
   ],
   "source": [
    "arr = np.array([[1,2,3],[4,5,6]])\n",
    "print(arr)\n",
    "print(arr.T)   # .T 행과 열을 교환   >> 전치 연산\n"
   ]
  },
  {
   "cell_type": "markdown",
   "metadata": {},
   "source": [
    "### 배열의 크기 변형 : reshape(), flatten(), ravel()\n"
   ]
  },
  {
   "cell_type": "code",
   "execution_count": 53,
   "metadata": {},
   "outputs": [
    {
     "name": "stdout",
     "output_type": "stream",
     "text": [
      "[ 0  1  2  3  4  5  6  7  8  9 10 11]\n",
      "(12,)\n",
      "----------------------\n",
      "[[ 0  1  2  3]\n",
      " [ 4  5  6  7]\n",
      " [ 8  9 10 11]]\n",
      "(3, 4)\n",
      "----------------------\n",
      "[[ 0  1  2  3]\n",
      " [ 4  5  6  7]\n",
      " [ 8  9 10 11]]\n",
      "(3, 4)\n",
      "[[ 0  1  2  3]\n",
      " [ 4  5  6  7]\n",
      " [ 8  9 10 11]]\n",
      "(3, 4)\n",
      "[[[ 0  1  2]\n",
      "  [ 3  4  5]]\n",
      "\n",
      " [[ 6  7  8]\n",
      "  [ 9 10 11]]]\n",
      "(2, 2, 3)\n",
      "----------------------\n",
      "[ 0  1  2  3  4  5  6  7  8  9 10 11]\n",
      "[ 0  1  2  3  4  5  6  7  8  9 10 11]\n"
     ]
    }
   ],
   "source": [
    "arr =np.arange(12)\n",
    "\n",
    "print(arr)\n",
    "print(arr.shape)\n",
    "print('----------------------')\n",
    "arr1 = arr.reshape(3,4)\n",
    "print(arr1)\n",
    "print(arr1.shape)\n",
    "print('----------------------')\n",
    "# -1을 사용하면 자동으로 형식을 맞춰줌\n",
    "arr2 = arr.reshape(3,-1)    \n",
    "print(arr2)\n",
    "print(arr2.shape)\n",
    "\n",
    "arr2 = arr.reshape(-1,4)  \n",
    "print(arr2)\n",
    "print(arr2.shape)\n",
    "\n",
    "arr3 = arr.reshape(2,2,3) #2면 2행 3열\n",
    "print(arr3)\n",
    "print(arr3.shape)\n",
    "print('----------------------')\n",
    "print(arr3.flatten())     # 1차원으로 변형\n",
    "print(arr3.ravel())       # 1차원으로 변형"
   ]
  },
  {
   "cell_type": "markdown",
   "metadata": {},
   "source": [
    "###  배열 연결(병합) : stack(), hstack(), vstack(), dstack(), tile()"
   ]
  },
  {
   "cell_type": "code",
   "execution_count": 17,
   "metadata": {},
   "outputs": [
    {
     "name": "stdout",
     "output_type": "stream",
     "text": [
      "[[1. 1. 1. 1. 1.]\n",
      " [1. 1. 1. 1. 1.]]\n"
     ]
    }
   ],
   "source": [
    "arr1 = np.ones((2,3))\n",
    "arr2 = np.ones((2,2))\n",
    "\n",
    "#행이 같을 때 hstack\n",
    "arr3 = np.hstack([arr1,arr2])\n",
    "print(arr3)"
   ]
  },
  {
   "cell_type": "code",
   "execution_count": 18,
   "metadata": {},
   "outputs": [
    {
     "name": "stdout",
     "output_type": "stream",
     "text": [
      "[[[1. 0.]\n",
      "  [1. 0.]\n",
      "  [1. 0.]\n",
      "  [1. 0.]]\n",
      "\n",
      " [[1. 0.]\n",
      "  [1. 0.]\n",
      "  [1. 0.]\n",
      "  [1. 0.]]\n",
      "\n",
      " [[1. 0.]\n",
      "  [1. 0.]\n",
      "  [1. 0.]\n",
      "  [1. 0.]]]\n",
      "(3, 4, 2)\n"
     ]
    }
   ],
   "source": [
    "#3행 4열 2개 \n",
    "arr1 = np.ones((3,4))\n",
    "arr2 = np.zeros((3,4))\n",
    "\n",
    "# dstack: 차원을 합쳐준다\n",
    "arr3 = np.dstack([arr1,arr2])\n",
    "print(arr3)\n",
    "print(arr3.shape)  # dstack은 차원의 개수를 밑뒤로 보낸다 "
   ]
  },
  {
   "cell_type": "code",
   "execution_count": 19,
   "metadata": {},
   "outputs": [
    {
     "name": "stdout",
     "output_type": "stream",
     "text": [
      "[[[1. 1. 1. 1.]\n",
      "  [1. 1. 1. 1.]\n",
      "  [1. 1. 1. 1.]]\n",
      "\n",
      " [[0. 0. 0. 0.]\n",
      "  [0. 0. 0. 0.]\n",
      "  [0. 0. 0. 0.]]]\n",
      "(2, 3, 4)\n",
      "-----------------------------\n",
      "[[[1. 1. 1. 1.]\n",
      "  [1. 1. 1. 1.]\n",
      "  [1. 1. 1. 1.]]\n",
      "\n",
      " [[0. 0. 0. 0.]\n",
      "  [0. 0. 0. 0.]\n",
      "  [0. 0. 0. 0.]]]\n",
      "(2, 3, 4)\n"
     ]
    }
   ],
   "source": [
    "arr1 = np.ones((3,4))\n",
    "arr2 = np.zeros((3,4))\n",
    "#arr1 = np.ones((3))\n",
    "#arr2 = np.zeros((3))\n",
    "\n",
    "arr3 =np.stack([arr1,arr2])\n",
    "print(arr3)\n",
    "print(arr3.shape) # dstack가 다르게 차원의 개수를 맨앞에 표시\n",
    "\n",
    "print(\"-----------------------------\")\n",
    "arr1 = np.ones((3,4))\n",
    "arr2 = np.zeros((3,4))\n",
    "\n",
    "arr3 =np.stack([arr1,arr2],axis=0)\n",
    "print(arr3)\n",
    "print(arr3.shape)"
   ]
  },
  {
   "cell_type": "code",
   "execution_count": 20,
   "metadata": {},
   "outputs": [
    {
     "name": "stdout",
     "output_type": "stream",
     "text": [
      "[[0 1 2]\n",
      " [3 4 5]]\n",
      "------------------------\n",
      "[[0 1 2 0 1 2]\n",
      " [3 4 5 3 4 5]]\n",
      "------------------------\n",
      "[[0 1 2 0 1 2]\n",
      " [3 4 5 3 4 5]\n",
      " [0 1 2 0 1 2]\n",
      " [3 4 5 3 4 5]\n",
      " [0 1 2 0 1 2]\n",
      " [3 4 5 3 4 5]]\n"
     ]
    }
   ],
   "source": [
    "# tile() 반복            stack은 합쳐서 차원이 변하지만 tile은 차원이 변하지 않는다.\n",
    "\n",
    "arr = np.array([[0,1,2],[3,4,5]])\n",
    "print(arr)\n",
    "print(\"------------------------\")\n",
    "print(np.tile(arr,2))\n",
    "print(\"------------------------\")\n",
    "print(np.tile(arr,(3,2)))    "
   ]
  },
  {
   "cell_type": "markdown",
   "metadata": {},
   "source": [
    "###  2차원 그리드 포인트 생성: meshgrid()"
   ]
  },
  {
   "cell_type": "code",
   "execution_count": 21,
   "metadata": {},
   "outputs": [
    {
     "name": "stdout",
     "output_type": "stream",
     "text": [
      "[0 1 2]\n",
      "[0 1 2 3 4]\n",
      "-------------------\n",
      "[[0 1 2]\n",
      " [0 1 2]\n",
      " [0 1 2]\n",
      " [0 1 2]\n",
      " [0 1 2]]\n",
      "[[0 0 0]\n",
      " [1 1 1]\n",
      " [2 2 2]\n",
      " [3 3 3]\n",
      " [4 4 4]]\n"
     ]
    },
    {
     "data": {
      "text/plain": [
       "<matplotlib.collections.PathCollection at 0x29b622cd848>"
      ]
     },
     "execution_count": 21,
     "metadata": {},
     "output_type": "execute_result"
    },
    {
     "data": {
      "image/png": "[encoded data removed]",
      "text/plain": [
       "<Figure size 432x288 with 1 Axes>"
      ]
     },
     "metadata": {
      "needs_background": "light"
     },
     "output_type": "display_data"
    }
   ],
   "source": [
    "x = np.arange(3)\n",
    "print(x)\n",
    "\n",
    "y = np.arange(5)\n",
    "print(y)\n",
    "\n",
    "print(\"-------------------\")\n",
    "\n",
    "X, Y =np.meshgrid(x,y)\n",
    "print(X)\n",
    "print(Y)\n",
    "\n",
    "import matplotlib.pylab as pit    # 파이썬에서 그래프만들기를 도와주는 모듈\n",
    "pit.scatter(X,Y)"
   ]
  },
  {
   "cell_type": "code",
   "execution_count": 22,
   "metadata": {},
   "outputs": [
    {
     "data": {
      "text/plain": [
       "'[[(0,0),(1,0),(2,0)],\\n    [(0,1),(1,1),(2,1)],\\n    [(0,2),(1,1),(2,2)],\\n    [(0,3),(1,3),(2,3)],\\n    [(0,4),(1,4),(2,4)]]                        zip\\n'"
      ]
     },
     "execution_count": 22,
     "metadata": {},
     "output_type": "execute_result"
    }
   ],
   "source": [
    "\"\"\"[[(0,0),(1,0),(2,0)],\n",
    "    [(0,1),(1,1),(2,1)],\n",
    "    [(0,2),(1,1),(2,2)],\n",
    "    [(0,3),(1,3),(2,3)],\n",
    "    [(0,4),(1,4),(2,4)]]                        zip\n",
    "\"\"\"\n"
   ]
  },
  {
   "cell_type": "markdown",
   "metadata": {},
   "source": [
    "### 브로드캐스팅(BroadCasting) \n",
    "\n",
    "   - 크기가 서로 다른 행렬(벡터)끼리 연산을 가능하게 하는 것"
   ]
  },
  {
   "cell_type": "code",
   "execution_count": 23,
   "metadata": {},
   "outputs": [
    {
     "name": "stdout",
     "output_type": "stream",
     "text": [
      "[0, 1, 2, 3, 4]\n",
      "[[0], [1], [2], [3], [4]]\n",
      "[range(0, 3), range(1, 4), range(2, 5), range(3, 6), range(4, 7)]\n"
     ]
    }
   ],
   "source": [
    "print([i for i in range(5)])\n",
    "print([[i] for i in range(5)])  # 2차원 리스트로 만들기\n",
    "print([range(7)[i:i+3] for i in range(5)])\n"
   ]
  },
  {
   "cell_type": "code",
   "execution_count": 24,
   "metadata": {},
   "outputs": [
    {
     "name": "stdout",
     "output_type": "stream",
     "text": [
      "[[0 1 2]\n",
      " [1 2 3]\n",
      " [2 3 4]\n",
      " [3 4 5]\n",
      " [4 5 6]]\n",
      "[[0]\n",
      " [1]\n",
      " [2]\n",
      " [3]\n",
      " [4]]\n",
      "[[ 0  1  2]\n",
      " [ 2  3  4]\n",
      " [ 4  5  6]\n",
      " [ 6  7  8]\n",
      " [ 8  9 10]]\n"
     ]
    }
   ],
   "source": [
    "x = np.vstack([range(7)[i:i+3] for i in range(5)])\n",
    "print(x)\n",
    "y = np.arange(5)[: ,np.newaxis]   # indexing으로 길이가 1인 새로운 축을 추가하기\n",
    "print(y)\n",
    "\n",
    "print(x+ y) # 차원의 크기가 같지 않아도 연산 가능"
   ]
  },
  {
   "cell_type": "markdown",
   "metadata": {},
   "source": [
    "### 차원 축소 (dimension reduction) 연산\n",
    "\n",
    "           - 최대값/최소값 : max(),min(),argmax(),argmin()\n",
    "           - 대표값 : sum(), mean(), median(), std(), var()\n",
    "           - 논리값 : all(), any()\n",
    "           "
   ]
  },
  {
   "cell_type": "code",
   "execution_count": 25,
   "metadata": {},
   "outputs": [
    {
     "name": "stdout",
     "output_type": "stream",
     "text": [
      "0\n",
      "1\n"
     ]
    }
   ],
   "source": [
    "x = np.array([1,3,2])\n",
    "print(np.argmin(x))   # 최소값이 있는 인덱스\n",
    "print(np.argmax(x))   # 최대값이 있는 인덱스\n"
   ]
  },
  {
   "cell_type": "code",
   "execution_count": 6,
   "metadata": {},
   "outputs": [
    {
     "name": "stdout",
     "output_type": "stream",
     "text": [
      "True\n",
      "False\n"
     ]
    }
   ],
   "source": [
    "print(np.any([True,True,False]))  # np.any() : 원소값 중 하나라도 True라면 Ture\n",
    "print(np.all([True,True,False]))  # np.all() : 원소값이 모두 True라면 True , 원소값 중 하나라도 False라면 False"
   ]
  },
  {
   "cell_type": "code",
   "execution_count": 27,
   "metadata": {},
   "outputs": [
    {
     "name": "stdout",
     "output_type": "stream",
     "text": [
      "6\n",
      "[3 3]\n",
      "[2 4]\n"
     ]
    }
   ],
   "source": [
    "x = np.array([[1,1],\n",
    "              [2,2]])\n",
    "\n",
    "print(x.sum()) \n",
    "print(x.sum(axis=0))   # 열 합계\n",
    "print(x.sum(axis=1))   # 행 합계"
   ]
  },
  {
   "cell_type": "markdown",
   "metadata": {},
   "source": [
    "###  기술 통계 \n",
    "\n",
    "            - len()\n",
    "            - sum(), mean(), median(), std(), var()\n",
    "            - percentile() : 사분위수"
   ]
  },
  {
   "cell_type": "code",
   "execution_count": 28,
   "metadata": {},
   "outputs": [
    {
     "name": "stdout",
     "output_type": "stream",
     "text": [
      "최소값  -24.0\n",
      "최대값  23.0\n",
      "1사분위  0.0\n",
      "2사분위  5.0\n",
      "3사분위  10.0\n"
     ]
    }
   ],
   "source": [
    "x = np.array([18,   5,  10,  23,  19,  -8,  10,   0,   0,   5,   2,  15,   8,\n",
    "              2,   5,   4,  15,  -1,   4,  -7, -24,   7,   9,  -6,  23, -13])\n",
    "\n",
    "print(\"최소값 \",np.percentile(x,0))\n",
    "print(\"최대값 \",np.percentile(x,100))\n",
    "print(\"1사분위 \",np.percentile(x,25))\n",
    "print(\"2사분위 \",np.percentile(x,50))    # median() = 중앙값\n",
    "print(\"3사분위 \",np.percentile(x,75))\n"
   ]
  },
  {
   "cell_type": "markdown",
   "metadata": {},
   "source": [
    "###  정렬"
   ]
  },
  {
   "cell_type": "code",
   "execution_count": 29,
   "metadata": {},
   "outputs": [
    {
     "name": "stdout",
     "output_type": "stream",
     "text": [
      "[[ 3  4  5  7]\n",
      " [ 1  9 11 12]\n",
      " [ 1  2 14 15]]\n",
      "[[ 3  4  5  7]\n",
      " [ 1  9 11 12]\n",
      " [ 1  2 14 15]]\n",
      "[[ 1  3  1  7]\n",
      " [ 2 12  5  9]\n",
      " [ 4 15 11 14]]\n",
      "[[ 4  3  5  7]\n",
      " [ 1 12 11  9]\n",
      " [ 2 15  1 14]]\n",
      "-----------------------------\n",
      "[[ 3  4  5  7]\n",
      " [ 1  9 11 12]\n",
      " [ 1  2 14 15]]\n"
     ]
    }
   ],
   "source": [
    "arr = np.array([[4,3,5,7],\n",
    "                 [1,12,11,9],\n",
    "                 [2,15,1,14]])\n",
    "\n",
    "print(np.sort(arr))\n",
    "print(np.sort(arr,axis=1))   # sort()의 difualt 값이 1이다 (행 정렬)\n",
    "print(np.sort(arr,axis=0))\n",
    "print(arr)\n",
    "arr = np.sort(arr)  \n",
    "print(\"-----------------------------\")\n",
    "arr = np.array([[4,3,5,7],\n",
    "                 [1,12,11,9],\n",
    "                 [2,15,1,14]])\n",
    "arr.sort()  #in-place :원본을 바꾼다\n",
    "print(arr)"
   ]
  },
  {
   "cell_type": "code",
   "execution_count": 30,
   "metadata": {},
   "outputs": [
    {
     "name": "stdout",
     "output_type": "stream",
     "text": [
      "[2 3 1 0]\n",
      "[12 25 38 42]\n"
     ]
    }
   ],
   "source": [
    "# argsort()   : 인덱스를 정렬해준다\n",
    "arr =np.array([42,38,12,25])\n",
    "idx =np.argsort(arr)\n",
    "print(idx)\n",
    "print(arr[idx]) # 인덱스를 뽑아서 순서대로 나열시킴\n"
   ]
  },
  {
   "cell_type": "markdown",
   "metadata": {},
   "source": [
    "###  난수\n",
    "\n",
    "        - rand()     : 0~1 사이의 균일분포 \n",
    "        - randn()    : 가우시안 표준 정규 분포\n",
    "        - randint()  : 균일분포의 정수 난수 "
   ]
  },
  {
   "cell_type": "code",
   "execution_count": 31,
   "metadata": {
    "scrolled": true
   },
   "outputs": [
    {
     "name": "stdout",
     "output_type": "stream",
     "text": [
      "[0.43662087 0.01640007 0.32395815 0.31160152 0.76922729 0.98166313\n",
      " 0.1021849  0.14465624 0.67552193 0.16662722]\n",
      "---------------------------------\n",
      "[-0.68110415  0.80496652  1.01129793 -0.10625189 -0.25655426 -0.01181456\n",
      " -0.01946342 -1.38349923 -1.08471624 -0.75938802]\n",
      "---------------------------------\n",
      "[[-1.05546523 -0.41457958  0.16760486  0.27398269  1.25042702]\n",
      " [ 0.75121148 -2.33064189  0.32815018  0.07212291 -0.1966449 ]\n",
      " [ 0.12462468 -2.21092941  0.21858231  2.06544504 -1.14594464]]\n",
      "---------------------------------\n"
     ]
    }
   ],
   "source": [
    "print(np.random.rand(10))  # ( 개 수 ) \n",
    "print('---------------------------------')\n",
    "print(np.random.randn(10))\n",
    "print('---------------------------------')\n",
    "print(np.random.randn(3,5))\n",
    "print('---------------------------------')\n"
   ]
  },
  {
   "cell_type": "code",
   "execution_count": 32,
   "metadata": {},
   "outputs": [
    {
     "data": {
      "text/plain": [
       "array([16, 17, 13, 15, 17, 13, 11, 14, 14, 12, 18, 13, 11, 18, 16, 11, 15,\n",
       "       19, 12, 12, 16, 12, 19, 14, 15, 15, 14, 13, 18, 13, 16, 13, 18, 18,\n",
       "       15, 14, 18, 13, 12, 19, 18, 17, 14, 13, 15, 14, 19, 15, 17, 13, 19,\n",
       "       13, 11, 14, 16, 12, 17, 11, 16, 12, 13, 19, 18, 19, 14, 11, 19, 16,\n",
       "       17, 12, 11, 13, 15, 18, 15, 19, 13, 14, 12, 15, 11, 19, 18, 18, 17,\n",
       "       11, 19, 17, 18, 17, 16, 12, 16, 14, 11, 14, 16, 11, 15, 16])"
      ]
     },
     "execution_count": 32,
     "metadata": {},
     "output_type": "execute_result"
    }
   ],
   "source": [
    "np.random.randint(10)  # ( 범 위 )\n",
    "np.random.randint(11,20)\n",
    "np.random.randint(11,20,size=100) # size 뽑을 난수의 갯수 지정"
   ]
  },
  {
   "cell_type": "code",
   "execution_count": 33,
   "metadata": {},
   "outputs": [
    {
     "data": {
      "text/plain": [
       "array([0.54340494, 0.27836939, 0.42451759, 0.84477613, 0.00471886])"
      ]
     },
     "execution_count": 33,
     "metadata": {},
     "output_type": "execute_result"
    }
   ],
   "source": [
    "# 재현성 \n",
    "np.random.seed(100)  # 난수를 고정 시킬수 있는 함수 \n",
    "np.random.rand(5)\n"
   ]
  },
  {
   "cell_type": "code",
   "execution_count": 34,
   "metadata": {},
   "outputs": [
    {
     "name": "stdout",
     "output_type": "stream",
     "text": [
      "[0 1 2 3 4 5 6 7 8 9]\n",
      "[8 4 3 0 1 6 7 9 5 2]\n"
     ]
    }
   ],
   "source": [
    "#데이터의 순서 바꾸기\n",
    "x =np.arange(10)\n",
    "print(x)\n",
    "\n",
    "np.random.shuffle(x)\n",
    "print(x)"
   ]
  },
  {
   "cell_type": "code",
   "execution_count": 35,
   "metadata": {},
   "outputs": [
    {
     "data": {
      "text/plain": [
       "array([2, 3, 2, 3, 3, 3, 2, 2, 2, 0])"
      ]
     },
     "execution_count": 35,
     "metadata": {},
     "output_type": "execute_result"
    }
   ],
   "source": [
    "# 샘플링 : 복원(default), 비복원\n",
    "\n",
    "np.random.choice(5,5)\n",
    "np.random.choice(5,3,replace = True)\n",
    "\n",
    "np.random.choice(5,5,replace = False) # 비복원 추출 : 중복된 값이 안나옴\n",
    "\n",
    "np.random.choice(5,10,p=[0.1,0,0.3,0.6,0]) # 확률을 할당할 수 있다 / 확률의 합 = 1\n"
   ]
  },
  {
   "cell_type": "markdown",
   "metadata": {},
   "source": [
    "###  정수형 데이터 카운팅 : unique(), bincount()"
   ]
  },
  {
   "cell_type": "code",
   "execution_count": 5,
   "metadata": {},
   "outputs": [
    {
     "name": "stdout",
     "output_type": "stream",
     "text": [
      "5\n",
      "['a' 'b' 'c']\n"
     ]
    }
   ],
   "source": [
    "arr = np.array(['a','b','b','c','a'])\n",
    "\n",
    "print(len(arr))\n",
    "print(np.unique(arr))   # 중복을 제거 "
   ]
  },
  {
   "cell_type": "code",
   "execution_count": 6,
   "metadata": {},
   "outputs": [
    {
     "name": "stdout",
     "output_type": "stream",
     "text": [
      "['a' 'b' 'c']\n",
      "[2 2 1]\n"
     ]
    }
   ],
   "source": [
    "index, count = np.unique(arr,return_counts=True)\n",
    "print(index)\n",
    "print(count)   # 중복된 것의 개수를 알려줌\n"
   ]
  },
  {
   "cell_type": "code",
   "execution_count": 7,
   "metadata": {},
   "outputs": [
    {
     "name": "stdout",
     "output_type": "stream",
     "text": [
      "[0 2 3 1 0 0]\n"
     ]
    }
   ],
   "source": [
    "# bincount : 발생하지 않은 사건에 대해서도 카운팅\n",
    "\n",
    "arr = np.array([1, 1, 2, 2, 2, 3])\n",
    "print(np.bincount(arr,minlength=6))  # 발생하지 않은 것도 0 으로 카운팅 0=0/1=2/2=3/3=1/4=0/5=0"
   ]
  },
  {
   "cell_type": "markdown",
   "metadata": {},
   "source": [
    "### 데이터 분석 실습 : 영화 평점 데이터\n",
    "\n",
    "\n",
    "            - http://grouplens.org\n",
    "            - https://grouplens.org/datasets/movielens/ml-1m"
   ]
  },
  {
   "cell_type": "code",
   "execution_count": 39,
   "metadata": {},
   "outputs": [
    {
     "name": "stdout",
     "output_type": "stream",
     "text": [
      "[[        1      1193         5 978300760]\n",
      " [        1       661         3 978302109]\n",
      " [        1       914         3 978301968]\n",
      " ...\n",
      " [     6040       562         5 956704746]\n",
      " [     6040      1096         4 956715648]\n",
      " [     6040      1097         4 956715569]]\n",
      "(1000209, 4)\n"
     ]
    }
   ],
   "source": [
    "#배열로 파일 불러오기    \n",
    "data = np.loadtxt('data/movie/ratings.dat', delimiter='::',dtype=np.int64)\n",
    "print(data)\n",
    "print(data.shape)"
   ]
  },
  {
   "cell_type": "code",
   "execution_count": 40,
   "metadata": {},
   "outputs": [
    {
     "name": "stdout",
     "output_type": "stream",
     "text": [
      "[[        1      1193         5 978300760]\n",
      " [        1       661         3 978302109]\n",
      " [        1       914         3 978301968]\n",
      " [        1      3408         4 978300275]\n",
      " [        1      2355         5 978824291]\n",
      " [        1      1197         3 978302268]\n",
      " [        1      1287         5 978302039]\n",
      " [        1      2804         5 978300719]\n",
      " [        1       594         4 978302268]\n",
      " [        1       919         4 978301368]\n",
      " [        1       595         5 978824268]\n",
      " [        1       938         4 978301752]\n",
      " [        1      2398         4 978302281]\n",
      " [        1      2918         4 978302124]\n",
      " [        1      1035         5 978301753]\n",
      " [        1      2791         4 978302188]\n",
      " [        1      2687         3 978824268]\n",
      " [        1      2018         4 978301777]\n",
      " [        1      3105         5 978301713]\n",
      " [        1      2797         4 978302039]]\n"
     ]
    }
   ],
   "source": [
    "#1행 부터 20행까지 \n",
    "print(data[:20,:])"
   ]
  },
  {
   "cell_type": "code",
   "execution_count": 41,
   "metadata": {},
   "outputs": [
    {
     "name": "stdout",
     "output_type": "stream",
     "text": [
      "[[   1  720]\n",
      " [   1 1270]\n",
      " [   1  527]\n",
      " [   1 2340]\n",
      " [   1   48]\n",
      " [   1 1097]\n",
      " [   1 1721]\n",
      " [   1 1545]\n",
      " [   1  745]\n",
      " [   1 2294]]\n"
     ]
    }
   ],
   "source": [
    "#21행 부터 30행까지 user id와 movieid만 출력\n",
    "print(data[21:31, :2])"
   ]
  },
  {
   "cell_type": "code",
   "execution_count": 42,
   "metadata": {},
   "outputs": [
    {
     "ename": "SyntaxError",
     "evalue": "illegal target for annotation (<ipython-input-42-f679e2495afd>, line 3)",
     "output_type": "error",
     "traceback": [
      "\u001b[1;36m  File \u001b[1;32m\"<ipython-input-42-f679e2495afd>\"\u001b[1;36m, line \u001b[1;32m3\u001b[0m\n\u001b[1;33m    print(np.mean(data[:,2]))                                                         ------------------------------9:20\u001b[0m\n\u001b[1;37m                                                                                                                        ^\u001b[0m\n\u001b[1;31mSyntaxError\u001b[0m\u001b[1;31m:\u001b[0m illegal target for annotation\n"
     ]
    }
   ],
   "source": [
    "#전체 평점 평균\n",
    "print(data[:,2].mean())\n",
    "print(np.mean(data[:,2]))                                                         ------------------------------9:20"
   ]
  },
  {
   "cell_type": "code",
   "execution_count": null,
   "metadata": {
    "scrolled": true
   },
   "outputs": [],
   "source": [
    "#사용자별 평점 평균(10명만 출력)\n",
    "user_id = np.unique(data[:,0])\n",
    "print(user_id.shape)\n",
    "\n",
    "mean_value = []\n",
    "for id in user_id:\n",
    "    data_user = data[data[:,0] == id,:]\n",
    "    value = data_user[:,2].mean()\n",
    "    mean_value.append([id,value])\n",
    "    \n",
    "print(\"결과\",mean_value[:10])"
   ]
  },
  {
   "cell_type": "code",
   "execution_count": null,
   "metadata": {},
   "outputs": [],
   "source": [
    "# 최고 평점 구하기 \n",
    "arr_mean_values = np.array(mean_value)\n",
    "#print(arr_mean_values)\n",
    "print(np.argmax(arr_mean_values[:,1])) # 282 실제로는 283번째 id\n",
    "print(arr_mean_values[282]) \n",
    "\n",
    "print(np.max(arr_mean_values[:,1]))  # 최고평점 확인\n",
    "\n",
    "\n",
    "\n",
    "print(np.argsort(arr_mean_values[:,1])) # id값 오른차순 정령 282번재 사람이 가장 높은값을 가지고 있다 \n",
    "\n",
    "print(np.argsort(arr_mean_values[:,1])[::-1]) # << 역순 정렬 "
   ]
  },
  {
   "cell_type": "code",
   "execution_count": null,
   "metadata": {},
   "outputs": [],
   "source": [
    "# 사용자별 평점 평균 데이터를 파일로 저장 \n",
    "arr_mean_values = np.array(mean_value)    # 배열로 바꿔줌\n",
    "print(type(arr_mean_values))\n",
    "\n",
    "np.savetxt('data/movie/id_rations.csv',arr_mean_values,delimiter=',',\n",
    "          fmt= '%.1f')"
   ]
  },
  {
   "cell_type": "code",
   "execution_count": null,
   "metadata": {},
   "outputs": [],
   "source": [
    "# :: (Extended Slice)\n",
    "arr = range(10)\n",
    "list(arr)\n",
    "\n",
    "list(arr[::2])  # 처음부터 끝까지 2 간격으로 접근 > 짝\n",
    "list(arr[1::2]) # 1부터 끝가지 2간격으로 접근 > 홀\n",
    "list(arr[::-1]) # 마지막 위치에서 부터 역순으로 접근\n",
    "list(arr[::-2]) # 역순으로 2간격으로 접근\n",
    "list(arr[3::-1]) \n",
    "list(arr[1:6:2])  "
   ]
  },
  {
   "cell_type": "code",
   "execution_count": null,
   "metadata": {},
   "outputs": [],
   "source": []
  }
 ],
 "metadata": {
  "kernelspec": {
   "display_name": "Python 3",
   "language": "python",
   "name": "python3"
  },
  "language_info": {
   "codemirror_mode": {
    "name": "ipython",
    "version": 3
   },
   "file_extension": ".py",
   "mimetype": "text/x-python",
   "name": "python",
   "nbconvert_exporter": "python",
   "pygments_lexer": "ipython3",
   "version": "3.7.6"
  }
 },
 "nbformat": 4,
 "nbformat_minor": 4
}
